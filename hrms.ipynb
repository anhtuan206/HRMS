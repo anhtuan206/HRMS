{
 "cells": [
  {
   "cell_type": "code",
   "execution_count": 13,
   "metadata": {},
   "outputs": [
    {
     "name": "stdout",
     "output_type": "stream",
     "text": [
      "Lần 0 : <Response [200]>\n",
      "Logged out <Response [200]>\n",
      "Lần 1 : <Response [200]>\n",
      "Logged out <Response [200]>\n",
      "Lần 2 : <Response [200]>\n",
      "Logged out <Response [200]>\n",
      "Lần 3 : <Response [200]>\n",
      "Logged out <Response [200]>\n",
      "Lần 4 : <Response [200]>\n",
      "Logged out <Response [200]>\n",
      "Finished!\n"
     ]
    }
   ],
   "source": [
    "import requests\n",
    "import urllib3\n",
    "import json\n",
    "import urllib.parse\n",
    "import getpass\n",
    "import time\n",
    "urllib3.disable_warnings(urllib3.exceptions.InsecureRequestWarning)\n",
    "\n",
    "def logOut():\n",
    "    url = \"https://hrms.cpc.vn/j_spring_logout\"\n",
    "    payload={}\n",
    "    headers = {\n",
    "        'Accept-Encoding': 'gzip, deflate, br',\n",
    "        'Accept' : 'text/html,application/xhtml+xml,application/xml;q=0.9,image/avif,image/webp,image/apng,*/*;q=0.8,application/signed-exchange;v=b3;q=0.9'\n",
    "    }\n",
    "    response = requests.request(\"GET\", url, headers=headers, data=payload)\n",
    "    return response\n",
    "loop = input('Nhập số lần đăng nhập:')\n",
    "username = input('Nhập tài khoản (evncpc\\\\taikhoan): ')\n",
    "password = getpass.getpass('Nhập mật khẩu: ')\n",
    "username = urllib.parse.quote(username)\n",
    "password = urllib.parse.quote(password)\n",
    "\n",
    "url = \"https://hrms.cpc.vn/j_spring_security_check?j_username=\"+username+\"&j_password=\"+password\n",
    "payload={}\n",
    "headers = {\n",
    "    'Accept':'text/html,application/xhtml+xml,application/xml;q=0.9,image/avif,image/webp,image/apng,*/*;q=0.8,application/signed-exchange;v=b3;q=0.9',\n",
    "    'Accept-Encoding': 'gzip, deflate, br',\n",
    "    'Content-Type': 'application/x-www-form-urlencoded'\n",
    "}\n",
    "for i in range(int(loop)):\n",
    "    if i == 50: break\n",
    "    response = requests.request(\"POST\", url, headers=headers, data=payload,verify=False)\n",
    "    print(\"Lần\",i,\":\",response)\n",
    "    time.sleep(3)\n",
    "    logout = logOut()\n",
    "    print(\"Logged out\",logout)\n",
    "else:\n",
    "    print(\"Finished!\")\n"
   ]
  },
  {
   "cell_type": "code",
   "execution_count": 6,
   "metadata": {},
   "outputs": [
    {
     "name": "stdout",
     "output_type": "stream",
     "text": [
      "<Response [200]>\n"
     ]
    }
   ],
   "source": []
  }
 ],
 "metadata": {
  "kernelspec": {
   "display_name": "base",
   "language": "python",
   "name": "python3"
  },
  "language_info": {
   "codemirror_mode": {
    "name": "ipython",
    "version": 3
   },
   "file_extension": ".py",
   "mimetype": "text/x-python",
   "name": "python",
   "nbconvert_exporter": "python",
   "pygments_lexer": "ipython3",
   "version": "3.9.15"
  },
  "orig_nbformat": 4,
  "vscode": {
   "interpreter": {
    "hash": "ad2bdc8ecc057115af97d19610ffacc2b4e99fae6737bb82f5d7fb13d2f2c186"
   }
  }
 },
 "nbformat": 4,
 "nbformat_minor": 2
}
